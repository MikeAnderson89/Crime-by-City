{
 "cells": [
  {
   "cell_type": "code",
   "execution_count": 2,
   "metadata": {},
   "outputs": [],
   "source": [
    "import pandas as pd\n",
    "import numpy as np\n",
    "import json\n",
    "import requests\n",
    "import matplotlib.pyplot as plt\n",
    "import csv\n"
   ]
  },
  {
   "cell_type": "code",
   "execution_count": 3,
   "metadata": {},
   "outputs": [
    {
     "data": {
      "text/html": [
       "<div>\n",
       "<style scoped>\n",
       "    .dataframe tbody tr th:only-of-type {\n",
       "        vertical-align: middle;\n",
       "    }\n",
       "\n",
       "    .dataframe tbody tr th {\n",
       "        vertical-align: top;\n",
       "    }\n",
       "\n",
       "    .dataframe thead th {\n",
       "        text-align: right;\n",
       "    }\n",
       "</style>\n",
       "<table border=\"1\" class=\"dataframe\">\n",
       "  <thead>\n",
       "    <tr style=\"text-align: right;\">\n",
       "      <th></th>\n",
       "      <th>crime_type</th>\n",
       "      <th>id</th>\n",
       "      <th>key</th>\n",
       "      <th>name</th>\n",
       "      <th>place_name</th>\n",
       "      <th>type</th>\n",
       "      <th>value</th>\n",
       "      <th>variable</th>\n",
       "      <th>year</th>\n",
       "    </tr>\n",
       "  </thead>\n",
       "  <tbody>\n",
       "    <tr>\n",
       "      <th>0</th>\n",
       "      <td>All Crimes</td>\n",
       "      <td>1600000US1714000</td>\n",
       "      <td>1600000US1714000--2010--All Crimes--count</td>\n",
       "      <td>Chicago, Illinois</td>\n",
       "      <td>Chicago, IL</td>\n",
       "      <td>place</td>\n",
       "      <td>268492</td>\n",
       "      <td>count</td>\n",
       "      <td>2010</td>\n",
       "    </tr>\n",
       "    <tr>\n",
       "      <th>1</th>\n",
       "      <td>Murder and nonnegligent manslaughter</td>\n",
       "      <td>1600000US1714000</td>\n",
       "      <td>1600000US1714000--2006--Murder and nonnegligen...</td>\n",
       "      <td>Chicago, Illinois</td>\n",
       "      <td>Chicago, IL</td>\n",
       "      <td>place</td>\n",
       "      <td>16.376256387789752</td>\n",
       "      <td>rate</td>\n",
       "      <td>2006</td>\n",
       "    </tr>\n",
       "    <tr>\n",
       "      <th>2</th>\n",
       "      <td>Aggravated assault</td>\n",
       "      <td>1600000US1714000</td>\n",
       "      <td>1600000US1714000--2006--Aggravated assault--rate</td>\n",
       "      <td>Chicago, Illinois</td>\n",
       "      <td>Chicago, IL</td>\n",
       "      <td>place</td>\n",
       "      <td>610.4354544551115</td>\n",
       "      <td>rate</td>\n",
       "      <td>2006</td>\n",
       "    </tr>\n",
       "    <tr>\n",
       "      <th>3</th>\n",
       "      <td>Murder and nonnegligent manslaughter</td>\n",
       "      <td>1600000US1714000</td>\n",
       "      <td>1600000US1714000--2010--Murder and nonnegligen...</td>\n",
       "      <td>Chicago, Illinois</td>\n",
       "      <td>Chicago, IL</td>\n",
       "      <td>place</td>\n",
       "      <td>432</td>\n",
       "      <td>count</td>\n",
       "      <td>2010</td>\n",
       "    </tr>\n",
       "    <tr>\n",
       "      <th>4</th>\n",
       "      <td>Burglary</td>\n",
       "      <td>1600000US1714000</td>\n",
       "      <td>1600000US1714000--2009--Burglary--rate</td>\n",
       "      <td>Chicago, Illinois</td>\n",
       "      <td>Chicago, IL</td>\n",
       "      <td>place</td>\n",
       "      <td>930.1260939794574</td>\n",
       "      <td>rate</td>\n",
       "      <td>2009</td>\n",
       "    </tr>\n",
       "  </tbody>\n",
       "</table>\n",
       "</div>"
      ],
      "text/plain": [
       "                             crime_type                id  \\\n",
       "0                            All Crimes  1600000US1714000   \n",
       "1  Murder and nonnegligent manslaughter  1600000US1714000   \n",
       "2                    Aggravated assault  1600000US1714000   \n",
       "3  Murder and nonnegligent manslaughter  1600000US1714000   \n",
       "4                              Burglary  1600000US1714000   \n",
       "\n",
       "                                                 key               name  \\\n",
       "0          1600000US1714000--2010--All Crimes--count  Chicago, Illinois   \n",
       "1  1600000US1714000--2006--Murder and nonnegligen...  Chicago, Illinois   \n",
       "2   1600000US1714000--2006--Aggravated assault--rate  Chicago, Illinois   \n",
       "3  1600000US1714000--2010--Murder and nonnegligen...  Chicago, Illinois   \n",
       "4             1600000US1714000--2009--Burglary--rate  Chicago, Illinois   \n",
       "\n",
       "    place_name   type               value variable  year  \n",
       "0  Chicago, IL  place              268492    count  2010  \n",
       "1  Chicago, IL  place  16.376256387789752     rate  2006  \n",
       "2  Chicago, IL  place   610.4354544551115     rate  2006  \n",
       "3  Chicago, IL  place                 432    count  2010  \n",
       "4  Chicago, IL  place   930.1260939794574     rate  2009  "
      ]
     },
     "execution_count": 3,
     "metadata": {},
     "output_type": "execute_result"
    }
   ],
   "source": [
    "#Getting the URL for the JSON Request\n",
    "city = \"Chicago, Illinois\"\n",
    "url = \"https://odn.data.socrata.com/resource/h4kz-unyt.json?name=\" + city\n",
    "data = requests.get(url).json()\n",
    "\n",
    "Crime_DF = pd.DataFrame(data)\n",
    "Crime_DF.head()"
   ]
  },
  {
   "cell_type": "code",
   "execution_count": 4,
   "metadata": {},
   "outputs": [],
   "source": [
    "Crime_DF['year'] = pd.to_numeric(Crime_DF['year'])\n",
    "Crime_DF['value'] = pd.to_numeric(Crime_DF['value'])"
   ]
  },
  {
   "cell_type": "code",
   "execution_count": 5,
   "metadata": {
    "scrolled": true
   },
   "outputs": [],
   "source": [
    "Filter_crimetype = Crime_DF.loc[Crime_DF['crime_type'] == 'Violent crime']\n",
    "Crime = Filter_crimetype.loc[Filter_crimetype['variable'] == 'rate']\n",
    "Crime\n",
    "\n",
    "Crime.to_csv('Chicago_Violent_Crime.csv')"
   ]
  },
  {
   "cell_type": "code",
   "execution_count": 6,
   "metadata": {},
   "outputs": [
    {
     "data": {
      "text/plain": [
       "Text(0, 0.5, 'Rate (Per 100,000 People)')"
      ]
     },
     "execution_count": 6,
     "metadata": {},
     "output_type": "execute_result"
    },
    {
     "data": {
      "image/png": "[encoded data removed]",
      "text/plain": [
       "<Figure size 1080x504 with 1 Axes>"
      ]
     },
     "metadata": {
      "needs_background": "light"
     },
     "output_type": "display_data"
    }
   ],
   "source": [
    "Crime.plot(kind='line', x='year', y='value', figsize=(15,7), color='Blue')\n",
    "\n",
    "plt.xlim(2013, 2018)\n",
    "plt.title('Crime Rate per 100,000 people')\n",
    "plt.xlabel('Year')\n",
    "plt.ylabel('Rate (Per 100,000 People)')"
   ]
  },
  {
   "cell_type": "code",
   "execution_count": 7,
   "metadata": {},
   "outputs": [],
   "source": [
    "#Seems that in 2014 Chicago reclassified thier crime statisitcs to start including 'Violent crimes'"
   ]
  },
  {
   "cell_type": "code",
   "execution_count": 8,
   "metadata": {},
   "outputs": [
    {
     "data": {
      "text/html": [
       "<div>\n",
       "<style scoped>\n",
       "    .dataframe tbody tr th:only-of-type {\n",
       "        vertical-align: middle;\n",
       "    }\n",
       "\n",
       "    .dataframe tbody tr th {\n",
       "        vertical-align: top;\n",
       "    }\n",
       "\n",
       "    .dataframe thead th {\n",
       "        text-align: right;\n",
       "    }\n",
       "</style>\n",
       "<table border=\"1\" class=\"dataframe\">\n",
       "  <thead>\n",
       "    <tr style=\"text-align: right;\">\n",
       "      <th></th>\n",
       "      <th>﻿Years</th>\n",
       "      <th>Graduation Rate</th>\n",
       "    </tr>\n",
       "  </thead>\n",
       "  <tbody>\n",
       "    <tr>\n",
       "      <th>0</th>\n",
       "      <td>2010</td>\n",
       "      <td>79.4</td>\n",
       "    </tr>\n",
       "    <tr>\n",
       "      <th>1</th>\n",
       "      <td>2011</td>\n",
       "      <td>80.2</td>\n",
       "    </tr>\n",
       "    <tr>\n",
       "      <th>2</th>\n",
       "      <td>2012</td>\n",
       "      <td>80.5</td>\n",
       "    </tr>\n",
       "    <tr>\n",
       "      <th>3</th>\n",
       "      <td>2013</td>\n",
       "      <td>81.1</td>\n",
       "    </tr>\n",
       "    <tr>\n",
       "      <th>4</th>\n",
       "      <td>2014</td>\n",
       "      <td>81.6</td>\n",
       "    </tr>\n",
       "  </tbody>\n",
       "</table>\n",
       "</div>"
      ],
      "text/plain": [
       "   ﻿Years  Graduation Rate\n",
       "0    2010             79.4\n",
       "1    2011             80.2\n",
       "2    2012             80.5\n",
       "3    2013             81.1\n",
       "4    2014             81.6"
      ]
     },
     "execution_count": 8,
     "metadata": {},
     "output_type": "execute_result"
    }
   ],
   "source": [
    "Graduation_csv = \"Chicago_Graduation_Rates.csv\"\n",
    "\n",
    "Graduation_Rates = pd.read_csv(Graduation_csv)\n",
    "Chicago_Graduation_Rates = pd.DataFrame(Graduation_Rates)\n",
    "Chicago_Graduation_Rates.head()"
   ]
  },
  {
   "cell_type": "code",
   "execution_count": 10,
   "metadata": {},
   "outputs": [
    {
     "data": {
      "text/plain": [
       "Text(0, 0.5, 'Rate (Per 100,000 People)')"
      ]
     },
     "execution_count": 10,
     "metadata": {},
     "output_type": "execute_result"
    },
    {
     "data": {
      "image/png": "[encoded data removed]",
      "text/plain": [
       "<Figure size 1080x720 with 1 Axes>"
      ]
     },
     "metadata": {
      "needs_background": "light"
     },
     "output_type": "display_data"
    }
   ],
   "source": [
    "# Chicago_Graduation_Rates.columns.values\n",
    "# Chart Graduation Rates over time.\n",
    "Chicago_Graduation_Rates.plot(kind='line', x='\\ufeffYears', y='Graduation Rate', figsize=(15,10), color='Blue')\n",
    "plt.title('Graduation Rate per 100,000 people')\n",
    "plt.xlabel('Year')\n",
    "plt.ylabel('Rate (Per 100,000 People)')"
   ]
  },
  {
   "cell_type": "code",
   "execution_count": 15,
   "metadata": {},
   "outputs": [
    {
     "data": {
      "text/html": [
       "<div>\n",
       "<style scoped>\n",
       "    .dataframe tbody tr th:only-of-type {\n",
       "        vertical-align: middle;\n",
       "    }\n",
       "\n",
       "    .dataframe tbody tr th {\n",
       "        vertical-align: top;\n",
       "    }\n",
       "\n",
       "    .dataframe thead th {\n",
       "        text-align: right;\n",
       "    }\n",
       "</style>\n",
       "<table border=\"1\" class=\"dataframe\">\n",
       "  <thead>\n",
       "    <tr style=\"text-align: right;\">\n",
       "      <th></th>\n",
       "      <th>﻿Years</th>\n",
       "      <th>&lt; $10,000</th>\n",
       "      <th>$10,000 - $14,999</th>\n",
       "      <th>$15,000 - $24,999</th>\n",
       "      <th>med</th>\n",
       "    </tr>\n",
       "  </thead>\n",
       "  <tbody>\n",
       "    <tr>\n",
       "      <th>0</th>\n",
       "      <td>2010</td>\n",
       "      <td>1.9</td>\n",
       "      <td>4.9</td>\n",
       "      <td>16.3</td>\n",
       "      <td>30440</td>\n",
       "    </tr>\n",
       "    <tr>\n",
       "      <th>1</th>\n",
       "      <td>2011</td>\n",
       "      <td>1.9</td>\n",
       "      <td>4.5</td>\n",
       "      <td>15.1</td>\n",
       "      <td>30948</td>\n",
       "    </tr>\n",
       "    <tr>\n",
       "      <th>2</th>\n",
       "      <td>2012</td>\n",
       "      <td>1.8</td>\n",
       "      <td>4.2</td>\n",
       "      <td>14.9</td>\n",
       "      <td>31052</td>\n",
       "    </tr>\n",
       "    <tr>\n",
       "      <th>3</th>\n",
       "      <td>2013</td>\n",
       "      <td>1.8</td>\n",
       "      <td>3.8</td>\n",
       "      <td>14.9</td>\n",
       "      <td>31228</td>\n",
       "    </tr>\n",
       "    <tr>\n",
       "      <th>4</th>\n",
       "      <td>2014</td>\n",
       "      <td>1.8</td>\n",
       "      <td>3.6</td>\n",
       "      <td>14.8</td>\n",
       "      <td>31610</td>\n",
       "    </tr>\n",
       "  </tbody>\n",
       "</table>\n",
       "</div>"
      ],
      "text/plain": [
       "   ﻿Years  < $10,000  $10,000 - $14,999  $15,000 - $24,999    med\n",
       "0    2010        1.9                4.9               16.3  30440\n",
       "1    2011        1.9                4.5               15.1  30948\n",
       "2    2012        1.8                4.2               14.9  31052\n",
       "3    2013        1.8                3.8               14.9  31228\n",
       "4    2014        1.8                3.6               14.8  31610"
      ]
     },
     "execution_count": 15,
     "metadata": {},
     "output_type": "execute_result"
    }
   ],
   "source": [
    "Income_csv = \"Chicago_Income_Rates.csv\"\n",
    "\n",
    "Income_Rates = pd.read_csv(Income_csv)\n",
    "Chicago_Income_Rates = pd.DataFrame(Income_Rates)\n",
    "Chicago_Income_Rates.head()"
   ]
  },
  {
   "cell_type": "code",
   "execution_count": 16,
   "metadata": {
    "scrolled": true
   },
   "outputs": [
    {
     "data": {
      "text/html": [
       "<div>\n",
       "<style scoped>\n",
       "    .dataframe tbody tr th:only-of-type {\n",
       "        vertical-align: middle;\n",
       "    }\n",
       "\n",
       "    .dataframe tbody tr th {\n",
       "        vertical-align: top;\n",
       "    }\n",
       "\n",
       "    .dataframe thead th {\n",
       "        text-align: right;\n",
       "    }\n",
       "</style>\n",
       "<table border=\"1\" class=\"dataframe\">\n",
       "  <thead>\n",
       "    <tr style=\"text-align: right;\">\n",
       "      <th></th>\n",
       "      <th>﻿Years</th>\n",
       "      <th>&lt; $10,000</th>\n",
       "      <th>$10,000 - $14,999</th>\n",
       "      <th>$15,000 - $24,999</th>\n",
       "      <th>med</th>\n",
       "      <th>% in Poverty</th>\n",
       "    </tr>\n",
       "  </thead>\n",
       "  <tbody>\n",
       "    <tr>\n",
       "      <th>0</th>\n",
       "      <td>2010</td>\n",
       "      <td>1.9</td>\n",
       "      <td>4.9</td>\n",
       "      <td>16.3</td>\n",
       "      <td>30440</td>\n",
       "      <td>23.1</td>\n",
       "    </tr>\n",
       "    <tr>\n",
       "      <th>1</th>\n",
       "      <td>2011</td>\n",
       "      <td>1.9</td>\n",
       "      <td>4.5</td>\n",
       "      <td>15.1</td>\n",
       "      <td>30948</td>\n",
       "      <td>21.5</td>\n",
       "    </tr>\n",
       "    <tr>\n",
       "      <th>2</th>\n",
       "      <td>2012</td>\n",
       "      <td>1.8</td>\n",
       "      <td>4.2</td>\n",
       "      <td>14.9</td>\n",
       "      <td>31052</td>\n",
       "      <td>20.9</td>\n",
       "    </tr>\n",
       "    <tr>\n",
       "      <th>3</th>\n",
       "      <td>2013</td>\n",
       "      <td>1.8</td>\n",
       "      <td>3.8</td>\n",
       "      <td>14.9</td>\n",
       "      <td>31228</td>\n",
       "      <td>20.5</td>\n",
       "    </tr>\n",
       "    <tr>\n",
       "      <th>4</th>\n",
       "      <td>2014</td>\n",
       "      <td>1.8</td>\n",
       "      <td>3.6</td>\n",
       "      <td>14.8</td>\n",
       "      <td>31610</td>\n",
       "      <td>20.2</td>\n",
       "    </tr>\n",
       "    <tr>\n",
       "      <th>5</th>\n",
       "      <td>2015</td>\n",
       "      <td>1.8</td>\n",
       "      <td>3.6</td>\n",
       "      <td>14.7</td>\n",
       "      <td>31703</td>\n",
       "      <td>20.1</td>\n",
       "    </tr>\n",
       "    <tr>\n",
       "      <th>6</th>\n",
       "      <td>2016</td>\n",
       "      <td>1.6</td>\n",
       "      <td>3.4</td>\n",
       "      <td>14.2</td>\n",
       "      <td>32418</td>\n",
       "      <td>19.2</td>\n",
       "    </tr>\n",
       "    <tr>\n",
       "      <th>7</th>\n",
       "      <td>2017</td>\n",
       "      <td>1.5</td>\n",
       "      <td>3.0</td>\n",
       "      <td>13.3</td>\n",
       "      <td>34420</td>\n",
       "      <td>17.8</td>\n",
       "    </tr>\n",
       "  </tbody>\n",
       "</table>\n",
       "</div>"
      ],
      "text/plain": [
       "   ﻿Years  < $10,000  $10,000 - $14,999  $15,000 - $24,999    med  \\\n",
       "0    2010        1.9                4.9               16.3  30440   \n",
       "1    2011        1.9                4.5               15.1  30948   \n",
       "2    2012        1.8                4.2               14.9  31052   \n",
       "3    2013        1.8                3.8               14.9  31228   \n",
       "4    2014        1.8                3.6               14.8  31610   \n",
       "5    2015        1.8                3.6               14.7  31703   \n",
       "6    2016        1.6                3.4               14.2  32418   \n",
       "7    2017        1.5                3.0               13.3  34420   \n",
       "\n",
       "   % in Poverty  \n",
       "0          23.1  \n",
       "1          21.5  \n",
       "2          20.9  \n",
       "3          20.5  \n",
       "4          20.2  \n",
       "5          20.1  \n",
       "6          19.2  \n",
       "7          17.8  "
      ]
     },
     "execution_count": 16,
     "metadata": {},
     "output_type": "execute_result"
    }
   ],
   "source": [
    "# Calculating everyone under $25,000 appending them to 'Chicago_Income_Rate' Datafrome.\n",
    "Chicago_Income_Rates['% in Poverty'] = Chicago_Income_Rates[\"< $10,000\"]+ Chicago_Income_Rates[\"$10,000 - $14,999\"]+ Chicago_Income_Rates[\"$15,000 - $24,999\"]\n",
    "Chicago_Income_Rates\n"
   ]
  },
  {
   "cell_type": "code",
   "execution_count": 17,
   "metadata": {},
   "outputs": [
    {
     "data": {
      "text/plain": [
       "array(['\\ufeffYears', '< $10,000', '$10,000 - $14,999',\n",
       "       '$15,000 - $24,999', 'med', '% in Poverty'], dtype=object)"
      ]
     },
     "execution_count": 17,
     "metadata": {},
     "output_type": "execute_result"
    }
   ],
   "source": [
    "Chicago_Income_Rates.columns.values"
   ]
  },
  {
   "cell_type": "code",
   "execution_count": 21,
   "metadata": {},
   "outputs": [
    {
     "data": {
      "text/plain": [
       "Text(0, 0.5, 'Rate (Per 100,000 People)')"
      ]
     },
     "execution_count": 21,
     "metadata": {},
     "output_type": "execute_result"
    },
    {
     "data": {
      "image/png": "[encoded data removed]",
      "text/plain": [
       "<Figure size 1080x720 with 1 Axes>"
      ]
     },
     "metadata": {
      "needs_background": "light"
     },
     "output_type": "display_data"
    }
   ],
   "source": [
    "# Plots % in Poverty over time\n",
    "Chicago_Income_Rates = Chicago_Income_Rates.rename(columns= {'\\ufeffYears': 'Years'})\n",
    "Chicago_Income_Rates.plot(kind='line', x='Years', y='% in Poverty', figsize=(15,10), color='Blue')\n",
    "plt.title('% of population in poverty')\n",
    "plt.xlabel('Year')\n",
    "plt.ylabel('Rate (Per 100,000 People)')"
   ]
  },
  {
   "cell_type": "code",
   "execution_count": 22,
   "metadata": {},
   "outputs": [
    {
     "data": {
      "text/plain": [
       "Text(0, 0.5, 'Rate (Per 100,000 People)')"
      ]
     },
     "execution_count": 22,
     "metadata": {},
     "output_type": "execute_result"
    },
    {
     "data": {
      "image/png": "[encoded data removed]",
      "text/plain": [
       "<Figure size 1080x720 with 1 Axes>"
      ]
     },
     "metadata": {
      "needs_background": "light"
     },
     "output_type": "display_data"
    }
   ],
   "source": [
    "Chicago_Income_Rates.plot(kind='line', x='Years', y='med', figsize=(15,10), color='Blue')\n",
    "plt.title('Average median income')\n",
    "plt.xlabel('Year')\n",
    "plt.ylabel('Rate (Per 100,000 People)')"
   ]
  },
  {
   "cell_type": "code",
   "execution_count": null,
   "metadata": {},
   "outputs": [],
   "source": []
  },
  {
   "cell_type": "code",
   "execution_count": null,
   "metadata": {},
   "outputs": [],
   "source": []
  }
 ],
 "metadata": {
  "kernelspec": {
   "display_name": "Python 3",
   "language": "python",
   "name": "python3"
  },
  "language_info": {
   "codemirror_mode": {
    "name": "ipython",
    "version": 3
   },
   "file_extension": ".py",
   "mimetype": "text/x-python",
   "name": "python",
   "nbconvert_exporter": "python",
   "pygments_lexer": "ipython3",
   "version": "3.7.3"
  }
 },
 "nbformat": 4,
 "nbformat_minor": 2
}
