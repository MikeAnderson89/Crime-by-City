{
 "cells": [
  {
   "cell_type": "markdown",
   "metadata": {},
   "source": [
    "#                                                    LOS ANGELES"
   ]
  },
  {
   "cell_type": "markdown",
   "metadata": {},
   "source": [
    "# Crime Rates"
   ]
  },
  {
   "cell_type": "markdown",
   "metadata": {},
   "source": [
    "This portion gets the raw data for the crime rate.  Keep in mind that most of it is just data cleanup."
   ]
  },
  {
   "cell_type": "code",
   "execution_count": 2,
   "metadata": {},
   "outputs": [],
   "source": [
    "import pandas as pd\n",
    "import numpy as np\n",
    "import json\n",
    "import requests\n",
    "import matplotlib.pyplot as plt\n",
    "\n",
    "import warnings\n",
    "warnings.filterwarnings('ignore')"
   ]
  },
  {
   "cell_type": "code",
   "execution_count": 3,
   "metadata": {},
   "outputs": [],
   "source": [
    "#Getting the URL for the JSON Request\n",
    "city = \"Los Angeles, California\"\n",
    "\n",
    "url = \"https://odn.data.socrata.com/resource/h4kz-unyt.json?name=\" + city\n",
    "\n",
    "data = requests.get(url).json()"
   ]
  },
  {
   "cell_type": "code",
   "execution_count": 4,
   "metadata": {},
   "outputs": [],
   "source": [
    "#Convert JSON to Dataframe\n",
    "\n",
    "data_df = pd.DataFrame(data)"
   ]
  },
  {
   "cell_type": "code",
   "execution_count": 5,
   "metadata": {
    "scrolled": true
   },
   "outputs": [
    {
     "data": {
      "text/html": [
       "<div>\n",
       "<style scoped>\n",
       "    .dataframe tbody tr th:only-of-type {\n",
       "        vertical-align: middle;\n",
       "    }\n",
       "\n",
       "    .dataframe tbody tr th {\n",
       "        vertical-align: top;\n",
       "    }\n",
       "\n",
       "    .dataframe thead th {\n",
       "        text-align: right;\n",
       "    }\n",
       "</style>\n",
       "<table border=\"1\" class=\"dataframe\">\n",
       "  <thead>\n",
       "    <tr style=\"text-align: right;\">\n",
       "      <th></th>\n",
       "      <th>crime_type</th>\n",
       "      <th>id</th>\n",
       "      <th>key</th>\n",
       "      <th>name</th>\n",
       "      <th>place_name</th>\n",
       "      <th>type</th>\n",
       "      <th>value</th>\n",
       "      <th>variable</th>\n",
       "      <th>year</th>\n",
       "    </tr>\n",
       "  </thead>\n",
       "  <tbody>\n",
       "    <tr>\n",
       "      <th>47</th>\n",
       "      <td>Property crime</td>\n",
       "      <td>1600000US0644000</td>\n",
       "      <td>1600000US0644000--2006--Property crime--rate</td>\n",
       "      <td>Los Angeles, California</td>\n",
       "      <td>Los Angeles, CA</td>\n",
       "      <td>place</td>\n",
       "      <td>2718.3973006517667</td>\n",
       "      <td>rate</td>\n",
       "      <td>2006</td>\n",
       "    </tr>\n",
       "    <tr>\n",
       "      <th>198</th>\n",
       "      <td>Violent crime</td>\n",
       "      <td>1600000US0644000</td>\n",
       "      <td>1600000US0644000--2006--Violent crime--rate</td>\n",
       "      <td>Los Angeles, California</td>\n",
       "      <td>Los Angeles, CA</td>\n",
       "      <td>place</td>\n",
       "      <td>786.8631031936187</td>\n",
       "      <td>rate</td>\n",
       "      <td>2006</td>\n",
       "    </tr>\n",
       "    <tr>\n",
       "      <th>18</th>\n",
       "      <td>All Crimes</td>\n",
       "      <td>1600000US0644000</td>\n",
       "      <td>1600000US0644000--2006--All Crimes--rate</td>\n",
       "      <td>Los Angeles, California</td>\n",
       "      <td>Los Angeles, CA</td>\n",
       "      <td>place</td>\n",
       "      <td>7071.250987574286</td>\n",
       "      <td>rate</td>\n",
       "      <td>2006</td>\n",
       "    </tr>\n",
       "    <tr>\n",
       "      <th>35</th>\n",
       "      <td>Arson</td>\n",
       "      <td>1600000US0644000</td>\n",
       "      <td>1600000US0644000--2006--Arson--rate</td>\n",
       "      <td>Los Angeles, California</td>\n",
       "      <td>Los Angeles, CA</td>\n",
       "      <td>place</td>\n",
       "      <td>60.730179883514566</td>\n",
       "      <td>rate</td>\n",
       "      <td>2006</td>\n",
       "    </tr>\n",
       "    <tr>\n",
       "      <th>42</th>\n",
       "      <td>Burglary</td>\n",
       "      <td>1600000US0644000</td>\n",
       "      <td>1600000US0644000--2006--Burglary--rate</td>\n",
       "      <td>Los Angeles, California</td>\n",
       "      <td>Los Angeles, CA</td>\n",
       "      <td>place</td>\n",
       "      <td>524.7902089339868</td>\n",
       "      <td>rate</td>\n",
       "      <td>2006</td>\n",
       "    </tr>\n",
       "  </tbody>\n",
       "</table>\n",
       "</div>"
      ],
      "text/plain": [
       "         crime_type                id  \\\n",
       "47   Property crime  1600000US0644000   \n",
       "198   Violent crime  1600000US0644000   \n",
       "18       All Crimes  1600000US0644000   \n",
       "35            Arson  1600000US0644000   \n",
       "42         Burglary  1600000US0644000   \n",
       "\n",
       "                                              key                     name  \\\n",
       "47   1600000US0644000--2006--Property crime--rate  Los Angeles, California   \n",
       "198   1600000US0644000--2006--Violent crime--rate  Los Angeles, California   \n",
       "18       1600000US0644000--2006--All Crimes--rate  Los Angeles, California   \n",
       "35            1600000US0644000--2006--Arson--rate  Los Angeles, California   \n",
       "42         1600000US0644000--2006--Burglary--rate  Los Angeles, California   \n",
       "\n",
       "          place_name   type               value variable  year  \n",
       "47   Los Angeles, CA  place  2718.3973006517667     rate  2006  \n",
       "198  Los Angeles, CA  place   786.8631031936187     rate  2006  \n",
       "18   Los Angeles, CA  place   7071.250987574286     rate  2006  \n",
       "35   Los Angeles, CA  place  60.730179883514566     rate  2006  \n",
       "42   Los Angeles, CA  place   524.7902089339868     rate  2006  "
      ]
     },
     "execution_count": 5,
     "metadata": {},
     "output_type": "execute_result"
    }
   ],
   "source": [
    "#Sorting the values by year\n",
    "data_df = data_df.sort_values('year')\n",
    "\n",
    "#Finding only the \"rate\" of the number of crimes, not the count, so that it's uniform city to city\n",
    "crime_rate_df = data_df.loc[data_df['variable'] == 'rate']\n",
    "\n",
    "crime_rate_df.head()"
   ]
  },
  {
   "cell_type": "code",
   "execution_count": 6,
   "metadata": {},
   "outputs": [
    {
     "data": {
      "text/html": [
       "<div>\n",
       "<style scoped>\n",
       "    .dataframe tbody tr th:only-of-type {\n",
       "        vertical-align: middle;\n",
       "    }\n",
       "\n",
       "    .dataframe tbody tr th {\n",
       "        vertical-align: top;\n",
       "    }\n",
       "\n",
       "    .dataframe thead th {\n",
       "        text-align: right;\n",
       "    }\n",
       "</style>\n",
       "<table border=\"1\" class=\"dataframe\">\n",
       "  <thead>\n",
       "    <tr style=\"text-align: right;\">\n",
       "      <th></th>\n",
       "      <th>index</th>\n",
       "      <th>crime_type</th>\n",
       "      <th>id</th>\n",
       "      <th>key</th>\n",
       "      <th>name</th>\n",
       "      <th>place_name</th>\n",
       "      <th>type</th>\n",
       "      <th>value</th>\n",
       "      <th>variable</th>\n",
       "      <th>year</th>\n",
       "    </tr>\n",
       "  </thead>\n",
       "  <tbody>\n",
       "    <tr>\n",
       "      <th>0</th>\n",
       "      <td>198</td>\n",
       "      <td>Violent crime</td>\n",
       "      <td>1600000US0644000</td>\n",
       "      <td>1600000US0644000--2006--Violent crime--rate</td>\n",
       "      <td>Los Angeles, California</td>\n",
       "      <td>Los Angeles, CA</td>\n",
       "      <td>place</td>\n",
       "      <td>786.8631031936187</td>\n",
       "      <td>rate</td>\n",
       "      <td>2006</td>\n",
       "    </tr>\n",
       "    <tr>\n",
       "      <th>1</th>\n",
       "      <td>46</td>\n",
       "      <td>Violent crime</td>\n",
       "      <td>1600000US0644000</td>\n",
       "      <td>1600000US0644000--2007--Violent crime--rate</td>\n",
       "      <td>Los Angeles, California</td>\n",
       "      <td>Los Angeles, CA</td>\n",
       "      <td>place</td>\n",
       "      <td>718.4108873121135</td>\n",
       "      <td>rate</td>\n",
       "      <td>2007</td>\n",
       "    </tr>\n",
       "    <tr>\n",
       "      <th>2</th>\n",
       "      <td>70</td>\n",
       "      <td>Violent crime</td>\n",
       "      <td>1600000US0644000</td>\n",
       "      <td>1600000US0644000--2008--Violent crime--rate</td>\n",
       "      <td>Los Angeles, California</td>\n",
       "      <td>Los Angeles, CA</td>\n",
       "      <td>place</td>\n",
       "      <td>689.5235424262254</td>\n",
       "      <td>rate</td>\n",
       "      <td>2008</td>\n",
       "    </tr>\n",
       "    <tr>\n",
       "      <th>3</th>\n",
       "      <td>120</td>\n",
       "      <td>Violent crime</td>\n",
       "      <td>1600000US0644000</td>\n",
       "      <td>1600000US0644000--2009--Violent crime--rate</td>\n",
       "      <td>Los Angeles, California</td>\n",
       "      <td>Los Angeles, CA</td>\n",
       "      <td>place</td>\n",
       "      <td>625.3936316376947</td>\n",
       "      <td>rate</td>\n",
       "      <td>2009</td>\n",
       "    </tr>\n",
       "    <tr>\n",
       "      <th>4</th>\n",
       "      <td>108</td>\n",
       "      <td>Violent crime</td>\n",
       "      <td>1600000US0644000</td>\n",
       "      <td>1600000US0644000--2010--Violent crime--rate</td>\n",
       "      <td>Los Angeles, California</td>\n",
       "      <td>Los Angeles, CA</td>\n",
       "      <td>place</td>\n",
       "      <td>559.2305712018122</td>\n",
       "      <td>rate</td>\n",
       "      <td>2010</td>\n",
       "    </tr>\n",
       "  </tbody>\n",
       "</table>\n",
       "</div>"
      ],
      "text/plain": [
       "   index     crime_type                id  \\\n",
       "0    198  Violent crime  1600000US0644000   \n",
       "1     46  Violent crime  1600000US0644000   \n",
       "2     70  Violent crime  1600000US0644000   \n",
       "3    120  Violent crime  1600000US0644000   \n",
       "4    108  Violent crime  1600000US0644000   \n",
       "\n",
       "                                           key                     name  \\\n",
       "0  1600000US0644000--2006--Violent crime--rate  Los Angeles, California   \n",
       "1  1600000US0644000--2007--Violent crime--rate  Los Angeles, California   \n",
       "2  1600000US0644000--2008--Violent crime--rate  Los Angeles, California   \n",
       "3  1600000US0644000--2009--Violent crime--rate  Los Angeles, California   \n",
       "4  1600000US0644000--2010--Violent crime--rate  Los Angeles, California   \n",
       "\n",
       "        place_name   type              value variable  year  \n",
       "0  Los Angeles, CA  place  786.8631031936187     rate  2006  \n",
       "1  Los Angeles, CA  place  718.4108873121135     rate  2007  \n",
       "2  Los Angeles, CA  place  689.5235424262254     rate  2008  \n",
       "3  Los Angeles, CA  place  625.3936316376947     rate  2009  \n",
       "4  Los Angeles, CA  place  559.2305712018122     rate  2010  "
      ]
     },
     "execution_count": 6,
     "metadata": {},
     "output_type": "execute_result"
    }
   ],
   "source": [
    "#Filtering down to only the Violent Crimes\n",
    "\n",
    "violent_crime_df = crime_rate_df.loc[crime_rate_df['crime_type'] == 'Violent crime']\n",
    "\n",
    "violent_crime_df = violent_crime_df.reset_index()\n",
    "violent_crime_df.head()"
   ]
  },
  {
   "cell_type": "code",
   "execution_count": 6,
   "metadata": {},
   "outputs": [],
   "source": [
    "#Deleting repeat data (won't be the same for each city) and resetting the index  *********Important**********\n",
    "#violent_crime_df = violent_crime_df.drop(index=213)\n",
    "#violent_crime_df = violent_crime_df.reset_index()\n",
    "#violent_crime_df"
   ]
  },
  {
   "cell_type": "code",
   "execution_count": 7,
   "metadata": {},
   "outputs": [
    {
     "data": {
      "text/html": [
       "<div>\n",
       "<style scoped>\n",
       "    .dataframe tbody tr th:only-of-type {\n",
       "        vertical-align: middle;\n",
       "    }\n",
       "\n",
       "    .dataframe tbody tr th {\n",
       "        vertical-align: top;\n",
       "    }\n",
       "\n",
       "    .dataframe thead th {\n",
       "        text-align: right;\n",
       "    }\n",
       "</style>\n",
       "<table border=\"1\" class=\"dataframe\">\n",
       "  <thead>\n",
       "    <tr style=\"text-align: right;\">\n",
       "      <th></th>\n",
       "      <th>year</th>\n",
       "      <th>crime_type</th>\n",
       "      <th>value</th>\n",
       "      <th>variable</th>\n",
       "    </tr>\n",
       "  </thead>\n",
       "  <tbody>\n",
       "    <tr>\n",
       "      <th>0</th>\n",
       "      <td>2006</td>\n",
       "      <td>Violent crime</td>\n",
       "      <td>786.8631031936187</td>\n",
       "      <td>rate</td>\n",
       "    </tr>\n",
       "    <tr>\n",
       "      <th>1</th>\n",
       "      <td>2007</td>\n",
       "      <td>Violent crime</td>\n",
       "      <td>718.4108873121135</td>\n",
       "      <td>rate</td>\n",
       "    </tr>\n",
       "    <tr>\n",
       "      <th>2</th>\n",
       "      <td>2008</td>\n",
       "      <td>Violent crime</td>\n",
       "      <td>689.5235424262254</td>\n",
       "      <td>rate</td>\n",
       "    </tr>\n",
       "    <tr>\n",
       "      <th>3</th>\n",
       "      <td>2009</td>\n",
       "      <td>Violent crime</td>\n",
       "      <td>625.3936316376947</td>\n",
       "      <td>rate</td>\n",
       "    </tr>\n",
       "    <tr>\n",
       "      <th>4</th>\n",
       "      <td>2010</td>\n",
       "      <td>Violent crime</td>\n",
       "      <td>559.2305712018122</td>\n",
       "      <td>rate</td>\n",
       "    </tr>\n",
       "  </tbody>\n",
       "</table>\n",
       "</div>"
      ],
      "text/plain": [
       "   year     crime_type              value variable\n",
       "0  2006  Violent crime  786.8631031936187     rate\n",
       "1  2007  Violent crime  718.4108873121135     rate\n",
       "2  2008  Violent crime  689.5235424262254     rate\n",
       "3  2009  Violent crime  625.3936316376947     rate\n",
       "4  2010  Violent crime  559.2305712018122     rate"
      ]
     },
     "execution_count": 7,
     "metadata": {},
     "output_type": "execute_result"
    }
   ],
   "source": [
    "#Getting only the data we need\n",
    "violent_crime_df = violent_crime_df[['year','crime_type', 'value', 'variable']]\n",
    "violent_crime_df.head()"
   ]
  },
  {
   "cell_type": "code",
   "execution_count": 12,
   "metadata": {},
   "outputs": [],
   "source": [
    "#Converting the correct columns to numbers, not objects\n",
    "\n",
    "violent_crime_df['year'] = pd.to_numeric(violent_crime_df['year'])\n",
    "violent_crime_df['value'] = pd.to_numeric(violent_crime_df['value'])\n",
    "\n",
    "violent_crime_df.to_csv('LA_Violent_Crime.csv')"
   ]
  },
  {
   "cell_type": "code",
   "execution_count": 13,
   "metadata": {},
   "outputs": [
    {
     "data": {
      "text/plain": [
       "Text(0, 0.5, 'Rate (Per 100,000 People)')"
      ]
     },
     "execution_count": 13,
     "metadata": {},
     "output_type": "execute_result"
    },
    {
     "data": {
      "image/png": "[encoded data removed]",
      "text/plain": [
       "<Figure size 1080x720 with 1 Axes>"
      ]
     },
     "metadata": {
      "needs_background": "light"
     },
     "output_type": "display_data"
    }
   ],
   "source": [
    "#Plot the graph\n",
    "violent_crime_df.plot(kind='line', x='year', y='value', figsize=(15,10), color='blue')\n",
    "plt.xlim(2010, 2017)\n",
    "plt.ylim(0, 1000)\n",
    "plt.title('Crime Rate per 100,000 people')\n",
    "plt.xlabel('Year')\n",
    "plt.ylabel('Rate (Per 100,000 People)')"
   ]
  },
  {
   "cell_type": "markdown",
   "metadata": {},
   "source": [
    "# Education Rates"
   ]
  },
  {
   "cell_type": "markdown",
   "metadata": {},
   "source": [
    "Getting the graduation rates from the same site, but creating my own CSV file manually in Excel"
   ]
  },
  {
   "cell_type": "code",
   "execution_count": 14,
   "metadata": {},
   "outputs": [],
   "source": [
    "#Import and Read the CSV File\n",
    "csv_file = 'LA_education.csv'\n",
    "\n",
    "edu_data = pd.read_csv(csv_file)\n",
    "\n",
    "#Turn it into a DataFrame\n",
    "edu_df = pd.DataFrame(edu_data)\n",
    "\n",
    "#edu_df"
   ]
  },
  {
   "cell_type": "code",
   "execution_count": 15,
   "metadata": {},
   "outputs": [
    {
     "data": {
      "text/plain": [
       "Text(0, 0.5, 'Graduation Rate')"
      ]
     },
     "execution_count": 15,
     "metadata": {},
     "output_type": "execute_result"
    },
    {
     "data": {
      "image/png": "[encoded data removed]",
      "text/plain": [
       "<Figure size 1080x720 with 1 Axes>"
      ]
     },
     "metadata": {
      "needs_background": "light"
     },
     "output_type": "display_data"
    }
   ],
   "source": [
    "#Plot the graph\n",
    "edu_df.plot(kind='line', x='Year', y='Graduation Rate', figsize=(15,10), color='maroon')\n",
    "plt.title('High School Graduation Rates')\n",
    "plt.xlabel('Year')\n",
    "plt.ylabel('Graduation Rate')"
   ]
  },
  {
   "cell_type": "markdown",
   "metadata": {},
   "source": [
    "# Income"
   ]
  },
  {
   "cell_type": "markdown",
   "metadata": {},
   "source": [
    "Same process as the education rates.  Create your own CSV based on the website"
   ]
  },
  {
   "cell_type": "code",
   "execution_count": 16,
   "metadata": {},
   "outputs": [],
   "source": [
    "#Import and Read the CSV File\n",
    "csv_file = 'LA_income.csv'\n",
    "\n",
    "income_data = pd.read_csv(csv_file)\n",
    "\n",
    "#Turn it into a DataFrame\n",
    "income_df = pd.DataFrame(income_data)\n",
    "\n",
    "#income_df"
   ]
  },
  {
   "cell_type": "code",
   "execution_count": 17,
   "metadata": {},
   "outputs": [
    {
     "data": {
      "text/html": [
       "<div>\n",
       "<style scoped>\n",
       "    .dataframe tbody tr th:only-of-type {\n",
       "        vertical-align: middle;\n",
       "    }\n",
       "\n",
       "    .dataframe tbody tr th {\n",
       "        vertical-align: top;\n",
       "    }\n",
       "\n",
       "    .dataframe thead th {\n",
       "        text-align: right;\n",
       "    }\n",
       "</style>\n",
       "<table border=\"1\" class=\"dataframe\">\n",
       "  <thead>\n",
       "    <tr style=\"text-align: right;\">\n",
       "      <th></th>\n",
       "      <th>Year</th>\n",
       "      <th>% 15000-24999</th>\n",
       "      <th>% 10000-14999</th>\n",
       "      <th>% &lt;10000</th>\n",
       "      <th>Median Income</th>\n",
       "      <th>% &lt;25000</th>\n",
       "    </tr>\n",
       "  </thead>\n",
       "  <tbody>\n",
       "    <tr>\n",
       "      <th>0</th>\n",
       "      <td>2017</td>\n",
       "      <td>18.9</td>\n",
       "      <td>5.5</td>\n",
       "      <td>2.3</td>\n",
       "      <td>28794</td>\n",
       "      <td>26.7</td>\n",
       "    </tr>\n",
       "    <tr>\n",
       "      <th>1</th>\n",
       "      <td>2016</td>\n",
       "      <td>19.8</td>\n",
       "      <td>6.1</td>\n",
       "      <td>2.5</td>\n",
       "      <td>27101</td>\n",
       "      <td>28.4</td>\n",
       "    </tr>\n",
       "    <tr>\n",
       "      <th>2</th>\n",
       "      <td>2015</td>\n",
       "      <td>20.3</td>\n",
       "      <td>6.6</td>\n",
       "      <td>2.6</td>\n",
       "      <td>26505</td>\n",
       "      <td>29.5</td>\n",
       "    </tr>\n",
       "    <tr>\n",
       "      <th>3</th>\n",
       "      <td>2014</td>\n",
       "      <td>20.2</td>\n",
       "      <td>6.7</td>\n",
       "      <td>2.6</td>\n",
       "      <td>26295</td>\n",
       "      <td>29.5</td>\n",
       "    </tr>\n",
       "    <tr>\n",
       "      <th>4</th>\n",
       "      <td>2013</td>\n",
       "      <td>20.2</td>\n",
       "      <td>7.0</td>\n",
       "      <td>2.6</td>\n",
       "      <td>26151</td>\n",
       "      <td>29.8</td>\n",
       "    </tr>\n",
       "    <tr>\n",
       "      <th>5</th>\n",
       "      <td>2012</td>\n",
       "      <td>19.3</td>\n",
       "      <td>7.6</td>\n",
       "      <td>2.6</td>\n",
       "      <td>26446</td>\n",
       "      <td>29.5</td>\n",
       "    </tr>\n",
       "    <tr>\n",
       "      <th>6</th>\n",
       "      <td>2011</td>\n",
       "      <td>19.5</td>\n",
       "      <td>8.0</td>\n",
       "      <td>2.6</td>\n",
       "      <td>26530</td>\n",
       "      <td>30.1</td>\n",
       "    </tr>\n",
       "    <tr>\n",
       "      <th>7</th>\n",
       "      <td>2010</td>\n",
       "      <td>20.3</td>\n",
       "      <td>8.4</td>\n",
       "      <td>2.6</td>\n",
       "      <td>26239</td>\n",
       "      <td>31.3</td>\n",
       "    </tr>\n",
       "  </tbody>\n",
       "</table>\n",
       "</div>"
      ],
      "text/plain": [
       "   Year  % 15000-24999  % 10000-14999  % <10000  Median Income  % <25000\n",
       "0  2017           18.9            5.5       2.3          28794      26.7\n",
       "1  2016           19.8            6.1       2.5          27101      28.4\n",
       "2  2015           20.3            6.6       2.6          26505      29.5\n",
       "3  2014           20.2            6.7       2.6          26295      29.5\n",
       "4  2013           20.2            7.0       2.6          26151      29.8\n",
       "5  2012           19.3            7.6       2.6          26446      29.5\n",
       "6  2011           19.5            8.0       2.6          26530      30.1\n",
       "7  2010           20.3            8.4       2.6          26239      31.3"
      ]
     },
     "execution_count": 17,
     "metadata": {},
     "output_type": "execute_result"
    }
   ],
   "source": [
    "#Sum the percentages together to get amount making below $25,000 (poverty)\n",
    "\n",
    "income_df['% <25000'] = income_df['% 15000-24999'] + income_df['% 10000-14999'] + income_df['% <10000']\n",
    "income_df"
   ]
  },
  {
   "cell_type": "code",
   "execution_count": 18,
   "metadata": {},
   "outputs": [
    {
     "data": {
      "text/html": [
       "<div>\n",
       "<style scoped>\n",
       "    .dataframe tbody tr th:only-of-type {\n",
       "        vertical-align: middle;\n",
       "    }\n",
       "\n",
       "    .dataframe tbody tr th {\n",
       "        vertical-align: top;\n",
       "    }\n",
       "\n",
       "    .dataframe thead th {\n",
       "        text-align: right;\n",
       "    }\n",
       "</style>\n",
       "<table border=\"1\" class=\"dataframe\">\n",
       "  <thead>\n",
       "    <tr style=\"text-align: right;\">\n",
       "      <th></th>\n",
       "      <th>Year</th>\n",
       "      <th>% &lt;25000</th>\n",
       "    </tr>\n",
       "  </thead>\n",
       "  <tbody>\n",
       "    <tr>\n",
       "      <th>0</th>\n",
       "      <td>2017</td>\n",
       "      <td>26.7</td>\n",
       "    </tr>\n",
       "    <tr>\n",
       "      <th>1</th>\n",
       "      <td>2016</td>\n",
       "      <td>28.4</td>\n",
       "    </tr>\n",
       "    <tr>\n",
       "      <th>2</th>\n",
       "      <td>2015</td>\n",
       "      <td>29.5</td>\n",
       "    </tr>\n",
       "    <tr>\n",
       "      <th>3</th>\n",
       "      <td>2014</td>\n",
       "      <td>29.5</td>\n",
       "    </tr>\n",
       "    <tr>\n",
       "      <th>4</th>\n",
       "      <td>2013</td>\n",
       "      <td>29.8</td>\n",
       "    </tr>\n",
       "    <tr>\n",
       "      <th>5</th>\n",
       "      <td>2012</td>\n",
       "      <td>29.5</td>\n",
       "    </tr>\n",
       "    <tr>\n",
       "      <th>6</th>\n",
       "      <td>2011</td>\n",
       "      <td>30.1</td>\n",
       "    </tr>\n",
       "    <tr>\n",
       "      <th>7</th>\n",
       "      <td>2010</td>\n",
       "      <td>31.3</td>\n",
       "    </tr>\n",
       "  </tbody>\n",
       "</table>\n",
       "</div>"
      ],
      "text/plain": [
       "   Year  % <25000\n",
       "0  2017      26.7\n",
       "1  2016      28.4\n",
       "2  2015      29.5\n",
       "3  2014      29.5\n",
       "4  2013      29.8\n",
       "5  2012      29.5\n",
       "6  2011      30.1\n",
       "7  2010      31.3"
      ]
     },
     "execution_count": 18,
     "metadata": {},
     "output_type": "execute_result"
    }
   ],
   "source": [
    "#Get just the columns we need\n",
    "\n",
    "poverty_df = income_df[['Year', '% <25000']]\n",
    "poverty_df"
   ]
  },
  {
   "cell_type": "code",
   "execution_count": 75,
   "metadata": {},
   "outputs": [
    {
     "data": {
      "text/plain": [
       "Text(0, 0.5, 'Percentage of Population')"
      ]
     },
     "execution_count": 75,
     "metadata": {},
     "output_type": "execute_result"
    },
    {
     "data": {
      "image/png": "[encoded data removed]",
      "text/plain": [
       "<Figure size 1080x720 with 1 Axes>"
      ]
     },
     "metadata": {
      "needs_background": "light"
     },
     "output_type": "display_data"
    }
   ],
   "source": [
    "#Plot the Poverty Graph\n",
    "poverty_df.plot(kind='line', x='Year', y='% <25000', figsize=(15,10), color='purple')\n",
    "plt.title('Percentage of Population Below Poverty Threshold')\n",
    "plt.xlabel('Year')\n",
    "plt.ylabel('Percentage of Population')"
   ]
  },
  {
   "cell_type": "code",
   "execution_count": 76,
   "metadata": {},
   "outputs": [
    {
     "data": {
      "text/plain": [
       "Text(0, 0.5, '$ Amount per Year')"
      ]
     },
     "execution_count": 76,
     "metadata": {},
     "output_type": "execute_result"
    },
    {
     "data": {
      "image/png": "[encoded data removed]",
      "text/plain": [
       "<Figure size 1080x720 with 1 Axes>"
      ]
     },
     "metadata": {
      "needs_background": "light"
     },
     "output_type": "display_data"
    }
   ],
   "source": [
    "#Get the columns we need\n",
    "\n",
    "median_income_df = income_df[['Year', 'Median Income']]\n",
    "\n",
    "#Plot the Median Income Graph\n",
    "median_income_df.plot(kind='line', x='Year', y='Median Income', figsize=(15,10), color='green')\n",
    "plt.title('Median Income')\n",
    "plt.xlabel('Year')\n",
    "plt.ylabel('$ Amount per Year')"
   ]
  },
  {
   "cell_type": "markdown",
   "metadata": {},
   "source": [
    "# Average House Price"
   ]
  },
  {
   "cell_type": "code",
   "execution_count": 86,
   "metadata": {},
   "outputs": [
    {
     "data": {
      "text/html": [
       "<div>\n",
       "<style scoped>\n",
       "    .dataframe tbody tr th:only-of-type {\n",
       "        vertical-align: middle;\n",
       "    }\n",
       "\n",
       "    .dataframe tbody tr th {\n",
       "        vertical-align: top;\n",
       "    }\n",
       "\n",
       "    .dataframe thead th {\n",
       "        text-align: right;\n",
       "    }\n",
       "</style>\n",
       "<table border=\"1\" class=\"dataframe\">\n",
       "  <thead>\n",
       "    <tr style=\"text-align: right;\">\n",
       "      <th></th>\n",
       "      <th>Year</th>\n",
       "      <th>Price</th>\n",
       "    </tr>\n",
       "  </thead>\n",
       "  <tbody>\n",
       "    <tr>\n",
       "      <th>0</th>\n",
       "      <td>2019</td>\n",
       "      <td>637500</td>\n",
       "    </tr>\n",
       "    <tr>\n",
       "      <th>1</th>\n",
       "      <td>2018</td>\n",
       "      <td>641300</td>\n",
       "    </tr>\n",
       "    <tr>\n",
       "      <th>2</th>\n",
       "      <td>2017</td>\n",
       "      <td>611900</td>\n",
       "    </tr>\n",
       "    <tr>\n",
       "      <th>3</th>\n",
       "      <td>2016</td>\n",
       "      <td>569700</td>\n",
       "    </tr>\n",
       "    <tr>\n",
       "      <th>4</th>\n",
       "      <td>2015</td>\n",
       "      <td>528400</td>\n",
       "    </tr>\n",
       "    <tr>\n",
       "      <th>5</th>\n",
       "      <td>2014</td>\n",
       "      <td>486700</td>\n",
       "    </tr>\n",
       "    <tr>\n",
       "      <th>6</th>\n",
       "      <td>2013</td>\n",
       "      <td>456500</td>\n",
       "    </tr>\n",
       "    <tr>\n",
       "      <th>7</th>\n",
       "      <td>2012</td>\n",
       "      <td>389400</td>\n",
       "    </tr>\n",
       "    <tr>\n",
       "      <th>8</th>\n",
       "      <td>2011</td>\n",
       "      <td>363100</td>\n",
       "    </tr>\n",
       "    <tr>\n",
       "      <th>9</th>\n",
       "      <td>2010</td>\n",
       "      <td>391200</td>\n",
       "    </tr>\n",
       "  </tbody>\n",
       "</table>\n",
       "</div>"
      ],
      "text/plain": [
       "   Year   Price\n",
       "0  2019  637500\n",
       "1  2018  641300\n",
       "2  2017  611900\n",
       "3  2016  569700\n",
       "4  2015  528400\n",
       "5  2014  486700\n",
       "6  2013  456500\n",
       "7  2012  389400\n",
       "8  2011  363100\n",
       "9  2010  391200"
      ]
     },
     "execution_count": 86,
     "metadata": {},
     "output_type": "execute_result"
    }
   ],
   "source": [
    "#Import and Read the CSV File\n",
    "csv_file = 'LA_average_house_price.csv'\n",
    "\n",
    "house_data = pd.read_csv(csv_file)\n",
    "\n",
    "#Turn it into a DataFrame\n",
    "house_data_df = pd.DataFrame(house_data)\n",
    "\n",
    "house_data_df"
   ]
  },
  {
   "cell_type": "code",
   "execution_count": 88,
   "metadata": {},
   "outputs": [
    {
     "data": {
      "text/plain": [
       "(2010, 2017)"
      ]
     },
     "execution_count": 88,
     "metadata": {},
     "output_type": "execute_result"
    },
    {
     "data": {
      "image/png": "[encoded data removed]",
      "text/plain": [
       "<Figure size 1080x720 with 1 Axes>"
      ]
     },
     "metadata": {
      "needs_background": "light"
     },
     "output_type": "display_data"
    }
   ],
   "source": [
    "house_data_df.plot(kind='line', x='Year', y='Price', figsize=(15,10), color='orange')\n",
    "plt.title('Average House Price by Year')\n",
    "plt.xlabel('Year')\n",
    "plt.ylabel('Average House Price by Year')\n",
    "plt.xlim(2010, 2017)"
   ]
  },
  {
   "cell_type": "code",
   "execution_count": null,
   "metadata": {},
   "outputs": [],
   "source": []
  },
  {
   "cell_type": "code",
   "execution_count": null,
   "metadata": {},
   "outputs": [],
   "source": []
  }
 ],
 "metadata": {
  "kernelspec": {
   "display_name": "Python 3",
   "language": "python",
   "name": "python3"
  },
  "language_info": {
   "codemirror_mode": {
    "name": "ipython",
    "version": 3
   },
   "file_extension": ".py",
   "mimetype": "text/x-python",
   "name": "python",
   "nbconvert_exporter": "python",
   "pygments_lexer": "ipython3",
   "version": "3.7.3"
  }
 },
 "nbformat": 4,
 "nbformat_minor": 2
}
