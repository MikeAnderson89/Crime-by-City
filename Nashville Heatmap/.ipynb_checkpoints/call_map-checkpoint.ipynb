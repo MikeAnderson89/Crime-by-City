{
 "cells": [
  {
   "cell_type": "code",
   "execution_count": 1,
   "metadata": {},
   "outputs": [],
   "source": [
    "import json\n",
    "import requests\n",
    "import pandas as pd\n",
    "import gmaps\n",
    "from config import gkey\n",
    "\n",
    "gmaps.configure(api_key=gkey)\n",
    "\n",
    "school_csv_file = \"Nashville_School.csv\"\n",
    "school_csv = pd.read_csv(school_csv_file)\n",
    "school_data = pd.DataFrame(school_csv)"
   ]
  },
  {
   "cell_type": "code",
   "execution_count": 2,
   "metadata": {},
   "outputs": [],
   "source": [
    "crime_json = 'https://data.nashville.gov/resource/kqb6-kd6q.json'\n",
    "data = requests.get(crime_json).json()\n",
    "\n",
    "pretty = json.dumps(data, indent=4, sort_keys=True)\n"
   ]
  },
  {
   "cell_type": "code",
   "execution_count": 3,
   "metadata": {},
   "outputs": [],
   "source": [
    "lats = []\n",
    "lons = []\n",
    "\n",
    "nashville_coordinates = (36.1627, -86.7816)"
   ]
  },
  {
   "cell_type": "code",
   "execution_count": 4,
   "metadata": {},
   "outputs": [
    {
     "name": "stdout",
     "output_type": "stream",
     "text": [
      "No latitude\n",
      "No latitude\n",
      "No latitude\n"
     ]
    }
   ],
   "source": [
    "thing = 0\n",
    "\n",
    "for x in data:\n",
    "    try:\n",
    "        lats.append(data[thing]['latitude'])\n",
    "        lons.append(data[thing]['longitude'])\n",
    "        thing = thing + 1\n",
    "    except KeyError:\n",
    "        print('No latitude')\n",
    "        thing = thing + 1"
   ]
  },
  {
   "cell_type": "code",
   "execution_count": 5,
   "metadata": {},
   "outputs": [],
   "source": [
    "locations = zip(lats, lons)\n",
    "\n",
    "please_work = pd.DataFrame(locations)\n",
    "coordinates = please_work.rename(columns ={0: 'Latitude', 1: 'Longitude'})\n",
    "coordinates['Latitude'] = coordinates['Latitude'].astype(float)\n",
    "coordinates['Longitude'] = coordinates['Longitude'].astype(float)\n",
    "school_data['Economically Disadvantaged'] = school_data['Economically Disadvantaged'].astype(float)\n",
    "\n",
    "school_coordinates = school_data[['Latitude', 'Longitude']]\n",
    "school_weight = school_data[['Economically Disadvantaged']]"
   ]
  },
  {
   "cell_type": "code",
   "execution_count": 6,
   "metadata": {},
   "outputs": [],
   "source": [
    "fig = gmaps.figure(center=nashville_coordinates, zoom_level=13)"
   ]
  },
  {
   "cell_type": "code",
   "execution_count": 7,
   "metadata": {},
   "outputs": [],
   "source": [
    "crime_layer = gmaps.symbol_layer(coordinates, fill_color='red', stroke_color='red', scale=2)\n",
    "fig.add_layer(crime_layer)\n",
    "school_layer = gmaps.heatmap_layer(school_coordinates, weights = school_data['Economically Disadvantaged'])\n",
    "school_layer.max_intensity = 300\n",
    "school_layer.point_radius = 50\n",
    "\n",
    "\n",
    "fig.add_layer(school_layer)"
   ]
  },
  {
   "cell_type": "code",
   "execution_count": 8,
   "metadata": {
    "scrolled": true
   },
   "outputs": [
    {
     "data": {
      "application/vnd.jupyter.widget-view+json": {
       "model_id": "d95501310b224b4fa31f657a21fb97e5",
       "version_major": 2,
       "version_minor": 0
      },
      "text/plain": [
       "Figure(layout=FigureLayout(height='420px'))"
      ]
     },
     "metadata": {},
     "output_type": "display_data"
    }
   ],
   "source": [
    "fig"
   ]
  },
  {
   "cell_type": "code",
   "execution_count": null,
   "metadata": {},
   "outputs": [],
   "source": []
  }
 ],
 "metadata": {
  "kernelspec": {
   "display_name": "Python 3",
   "language": "python",
   "name": "python3"
  },
  "language_info": {
   "codemirror_mode": {
    "name": "ipython",
    "version": 3
   },
   "file_extension": ".py",
   "mimetype": "text/x-python",
   "name": "python",
   "nbconvert_exporter": "python",
   "pygments_lexer": "ipython3",
   "version": "3.7.3"
  }
 },
 "nbformat": 4,
 "nbformat_minor": 2
}
