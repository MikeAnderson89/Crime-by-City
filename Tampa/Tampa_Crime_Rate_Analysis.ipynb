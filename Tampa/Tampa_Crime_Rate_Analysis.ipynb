{
 "cells": [
  {
   "cell_type": "markdown",
   "metadata": {},
   "source": [
    "#                                                    LOS ANGELES"
   ]
  },
  {
   "cell_type": "markdown",
   "metadata": {},
   "source": [
    "# Crime Rates"
   ]
  },
  {
   "cell_type": "markdown",
   "metadata": {},
   "source": [
    "This portion gets the raw data for the crime rate.  Keep in mind that most of it is just data cleanup."
   ]
  },
  {
   "cell_type": "code",
   "execution_count": 2,
   "metadata": {},
   "outputs": [],
   "source": [
    "import pandas as pd\n",
    "import numpy as np\n",
    "import json\n",
    "import requests\n",
    "import matplotlib.pyplot as plt\n",
    "\n",
    "import warnings\n",
    "warnings.filterwarnings('ignore')"
   ]
  },
  {
   "cell_type": "code",
   "execution_count": 3,
   "metadata": {},
   "outputs": [],
   "source": [
    "#Getting the URL for the JSON Request\n",
    "city = \"Tampa, Florida\"\n",
    "\n",
    "url = \"https://odn.data.socrata.com/resource/h4kz-unyt.json?name=\" + city\n",
    "\n",
    "data = requests.get(url).json()"
   ]
  },
  {
   "cell_type": "code",
   "execution_count": 4,
   "metadata": {},
   "outputs": [],
   "source": [
    "#Convert JSON to Dataframe\n",
    "\n",
    "data_df = pd.DataFrame(data)"
   ]
  },
  {
   "cell_type": "code",
   "execution_count": 5,
   "metadata": {},
   "outputs": [
    {
     "data": {
      "text/html": [
       "<div>\n",
       "<style scoped>\n",
       "    .dataframe tbody tr th:only-of-type {\n",
       "        vertical-align: middle;\n",
       "    }\n",
       "\n",
       "    .dataframe tbody tr th {\n",
       "        vertical-align: top;\n",
       "    }\n",
       "\n",
       "    .dataframe thead th {\n",
       "        text-align: right;\n",
       "    }\n",
       "</style>\n",
       "<table border=\"1\" class=\"dataframe\">\n",
       "  <thead>\n",
       "    <tr style=\"text-align: right;\">\n",
       "      <th></th>\n",
       "      <th>crime_type</th>\n",
       "      <th>id</th>\n",
       "      <th>key</th>\n",
       "      <th>name</th>\n",
       "      <th>place_name</th>\n",
       "      <th>type</th>\n",
       "      <th>value</th>\n",
       "      <th>variable</th>\n",
       "      <th>year</th>\n",
       "    </tr>\n",
       "  </thead>\n",
       "  <tbody>\n",
       "    <tr>\n",
       "      <th>106</th>\n",
       "      <td>Property crime</td>\n",
       "      <td>1600000US1271000</td>\n",
       "      <td>1600000US1271000--2006--Property crime--rate</td>\n",
       "      <td>Tampa, Florida</td>\n",
       "      <td>Tampa, FL</td>\n",
       "      <td>place</td>\n",
       "      <td>5668.095581425516</td>\n",
       "      <td>rate</td>\n",
       "      <td>2006</td>\n",
       "    </tr>\n",
       "    <tr>\n",
       "      <th>26</th>\n",
       "      <td>Forcible rape</td>\n",
       "      <td>1600000US1271000</td>\n",
       "      <td>1600000US1271000--2006--Forcible rape--rate</td>\n",
       "      <td>Tampa, Florida</td>\n",
       "      <td>Tampa, FL</td>\n",
       "      <td>place</td>\n",
       "      <td>40.12223707113703</td>\n",
       "      <td>rate</td>\n",
       "      <td>2006</td>\n",
       "    </tr>\n",
       "    <tr>\n",
       "      <th>104</th>\n",
       "      <td>Larceny</td>\n",
       "      <td>1600000US1271000</td>\n",
       "      <td>1600000US1271000--2006--Larceny--rate</td>\n",
       "      <td>Tampa, Florida</td>\n",
       "      <td>Tampa, FL</td>\n",
       "      <td>place</td>\n",
       "      <td>3394.0999194538554</td>\n",
       "      <td>rate</td>\n",
       "      <td>2006</td>\n",
       "    </tr>\n",
       "    <tr>\n",
       "      <th>157</th>\n",
       "      <td>Murder and nonnegligent manslaughter</td>\n",
       "      <td>1600000US1271000</td>\n",
       "      <td>1600000US1271000--2006--Murder and nonnegligen...</td>\n",
       "      <td>Tampa, Florida</td>\n",
       "      <td>Tampa, FL</td>\n",
       "      <td>place</td>\n",
       "      <td>7.541773885552073</td>\n",
       "      <td>rate</td>\n",
       "      <td>2006</td>\n",
       "    </tr>\n",
       "    <tr>\n",
       "      <th>186</th>\n",
       "      <td>Burglary</td>\n",
       "      <td>1600000US1271000</td>\n",
       "      <td>1600000US1271000--2006--Burglary--rate</td>\n",
       "      <td>Tampa, Florida</td>\n",
       "      <td>Tampa, FL</td>\n",
       "      <td>place</td>\n",
       "      <td>1342.737422583691</td>\n",
       "      <td>rate</td>\n",
       "      <td>2006</td>\n",
       "    </tr>\n",
       "  </tbody>\n",
       "</table>\n",
       "</div>"
      ],
      "text/plain": [
       "                               crime_type                id  \\\n",
       "106                        Property crime  1600000US1271000   \n",
       "26                          Forcible rape  1600000US1271000   \n",
       "104                               Larceny  1600000US1271000   \n",
       "157  Murder and nonnegligent manslaughter  1600000US1271000   \n",
       "186                              Burglary  1600000US1271000   \n",
       "\n",
       "                                                   key            name  \\\n",
       "106       1600000US1271000--2006--Property crime--rate  Tampa, Florida   \n",
       "26         1600000US1271000--2006--Forcible rape--rate  Tampa, Florida   \n",
       "104              1600000US1271000--2006--Larceny--rate  Tampa, Florida   \n",
       "157  1600000US1271000--2006--Murder and nonnegligen...  Tampa, Florida   \n",
       "186             1600000US1271000--2006--Burglary--rate  Tampa, Florida   \n",
       "\n",
       "    place_name   type               value variable  year  \n",
       "106  Tampa, FL  place   5668.095581425516     rate  2006  \n",
       "26   Tampa, FL  place   40.12223707113703     rate  2006  \n",
       "104  Tampa, FL  place  3394.0999194538554     rate  2006  \n",
       "157  Tampa, FL  place   7.541773885552073     rate  2006  \n",
       "186  Tampa, FL  place   1342.737422583691     rate  2006  "
      ]
     },
     "execution_count": 5,
     "metadata": {},
     "output_type": "execute_result"
    }
   ],
   "source": [
    "#Sorting the values by year\n",
    "data_df = data_df.sort_values('year')\n",
    "\n",
    "#Finding only the \"rate\" of the number of crimes, not the count, so that it's uniform city to city\n",
    "crime_rate_df = data_df.loc[data_df['variable'] == 'rate']\n",
    "\n",
    "crime_rate_df.head()"
   ]
  },
  {
   "cell_type": "code",
   "execution_count": 6,
   "metadata": {},
   "outputs": [],
   "source": [
    "#Filtering down to only the Violent Crimes\n",
    "\n",
    "violent_crime_df = crime_rate_df.loc[crime_rate_df['crime_type'] == 'Violent crime']\n",
    "\n",
    "#violent_crime_df"
   ]
  },
  {
   "cell_type": "code",
   "execution_count": 7,
   "metadata": {},
   "outputs": [
    {
     "data": {
      "text/html": [
       "<div>\n",
       "<style scoped>\n",
       "    .dataframe tbody tr th:only-of-type {\n",
       "        vertical-align: middle;\n",
       "    }\n",
       "\n",
       "    .dataframe tbody tr th {\n",
       "        vertical-align: top;\n",
       "    }\n",
       "\n",
       "    .dataframe thead th {\n",
       "        text-align: right;\n",
       "    }\n",
       "</style>\n",
       "<table border=\"1\" class=\"dataframe\">\n",
       "  <thead>\n",
       "    <tr style=\"text-align: right;\">\n",
       "      <th></th>\n",
       "      <th>index</th>\n",
       "      <th>crime_type</th>\n",
       "      <th>id</th>\n",
       "      <th>key</th>\n",
       "      <th>name</th>\n",
       "      <th>place_name</th>\n",
       "      <th>type</th>\n",
       "      <th>value</th>\n",
       "      <th>variable</th>\n",
       "      <th>year</th>\n",
       "    </tr>\n",
       "  </thead>\n",
       "  <tbody>\n",
       "    <tr>\n",
       "      <th>0</th>\n",
       "      <td>112</td>\n",
       "      <td>Violent crime</td>\n",
       "      <td>1600000US1271000</td>\n",
       "      <td>1600000US1271000--2006--Violent crime--rate</td>\n",
       "      <td>Tampa, Florida</td>\n",
       "      <td>Tampa, FL</td>\n",
       "      <td>place</td>\n",
       "      <td>1158.1147978653764</td>\n",
       "      <td>rate</td>\n",
       "      <td>2006</td>\n",
       "    </tr>\n",
       "    <tr>\n",
       "      <th>1</th>\n",
       "      <td>4</td>\n",
       "      <td>Violent crime</td>\n",
       "      <td>1600000US1271000</td>\n",
       "      <td>1600000US1271000--2007--Violent crime--rate</td>\n",
       "      <td>Tampa, Florida</td>\n",
       "      <td>Tampa, FL</td>\n",
       "      <td>place</td>\n",
       "      <td>1060.1387818041635</td>\n",
       "      <td>rate</td>\n",
       "      <td>2007</td>\n",
       "    </tr>\n",
       "    <tr>\n",
       "      <th>2</th>\n",
       "      <td>145</td>\n",
       "      <td>Violent crime</td>\n",
       "      <td>1600000US1271000</td>\n",
       "      <td>1600000US1271000--2008--Violent crime--rate</td>\n",
       "      <td>Tampa, Florida</td>\n",
       "      <td>Tampa, FL</td>\n",
       "      <td>place</td>\n",
       "      <td>883.0225193003494</td>\n",
       "      <td>rate</td>\n",
       "      <td>2008</td>\n",
       "    </tr>\n",
       "    <tr>\n",
       "      <th>3</th>\n",
       "      <td>172</td>\n",
       "      <td>Violent crime</td>\n",
       "      <td>1600000US1271000</td>\n",
       "      <td>1600000US1271000--2009--Violent crime--rate</td>\n",
       "      <td>Tampa, Florida</td>\n",
       "      <td>Tampa, FL</td>\n",
       "      <td>place</td>\n",
       "      <td>752.2455848658732</td>\n",
       "      <td>rate</td>\n",
       "      <td>2009</td>\n",
       "    </tr>\n",
       "    <tr>\n",
       "      <th>4</th>\n",
       "      <td>1</td>\n",
       "      <td>Violent crime</td>\n",
       "      <td>1600000US1271000</td>\n",
       "      <td>1600000US1271000--2010--Violent crime--rate</td>\n",
       "      <td>Tampa, Florida</td>\n",
       "      <td>Tampa, FL</td>\n",
       "      <td>place</td>\n",
       "      <td>623.8679814852082</td>\n",
       "      <td>rate</td>\n",
       "      <td>2010</td>\n",
       "    </tr>\n",
       "    <tr>\n",
       "      <th>5</th>\n",
       "      <td>102</td>\n",
       "      <td>Violent crime</td>\n",
       "      <td>1600000US1271000</td>\n",
       "      <td>1600000US1271000--2011--Violent crime--rate</td>\n",
       "      <td>Tampa, Florida</td>\n",
       "      <td>Tampa, FL</td>\n",
       "      <td>place</td>\n",
       "      <td>654.7472111530369</td>\n",
       "      <td>rate</td>\n",
       "      <td>2011</td>\n",
       "    </tr>\n",
       "    <tr>\n",
       "      <th>6</th>\n",
       "      <td>86</td>\n",
       "      <td>Violent crime</td>\n",
       "      <td>1600000US1271000</td>\n",
       "      <td>1600000US1271000--2012--Violent crime--rate</td>\n",
       "      <td>Tampa, Florida</td>\n",
       "      <td>Tampa, FL</td>\n",
       "      <td>place</td>\n",
       "      <td>616.3793840767709</td>\n",
       "      <td>rate</td>\n",
       "      <td>2012</td>\n",
       "    </tr>\n",
       "    <tr>\n",
       "      <th>7</th>\n",
       "      <td>28</td>\n",
       "      <td>Violent crime</td>\n",
       "      <td>1600000US1271000</td>\n",
       "      <td>1600000US1271000--2013--Violent crime--rate</td>\n",
       "      <td>Tampa, Florida</td>\n",
       "      <td>Tampa, FL</td>\n",
       "      <td>place</td>\n",
       "      <td>596.901916803771</td>\n",
       "      <td>rate</td>\n",
       "      <td>2013</td>\n",
       "    </tr>\n",
       "    <tr>\n",
       "      <th>8</th>\n",
       "      <td>144</td>\n",
       "      <td>Violent crime</td>\n",
       "      <td>1600000US1271000</td>\n",
       "      <td>1600000US1271000--2014--Violent crime--rate</td>\n",
       "      <td>Tampa, Florida</td>\n",
       "      <td>Tampa, FL</td>\n",
       "      <td>place</td>\n",
       "      <td>582.4307523437238</td>\n",
       "      <td>rate</td>\n",
       "      <td>2014</td>\n",
       "    </tr>\n",
       "    <tr>\n",
       "      <th>9</th>\n",
       "      <td>216</td>\n",
       "      <td>Violent crime</td>\n",
       "      <td>1600000US1271000</td>\n",
       "      <td>1600000US1271000--2015--Violent crime--rate</td>\n",
       "      <td>Tampa, Florida</td>\n",
       "      <td>Tampa, FL</td>\n",
       "      <td>place</td>\n",
       "      <td>630.6551074007294</td>\n",
       "      <td>rate</td>\n",
       "      <td>2015</td>\n",
       "    </tr>\n",
       "    <tr>\n",
       "      <th>10</th>\n",
       "      <td>217</td>\n",
       "      <td>Violent crime</td>\n",
       "      <td>1600000US1271000</td>\n",
       "      <td>1600000US1271000--2015--Violent crime--rate</td>\n",
       "      <td>Tampa, Florida</td>\n",
       "      <td>Tampa, FL</td>\n",
       "      <td>place</td>\n",
       "      <td>630.6551074007294</td>\n",
       "      <td>rate</td>\n",
       "      <td>2015</td>\n",
       "    </tr>\n",
       "    <tr>\n",
       "      <th>11</th>\n",
       "      <td>229</td>\n",
       "      <td>Violent crime</td>\n",
       "      <td>1600000US1271000</td>\n",
       "      <td>1600000US1271000--2016--Violent crime--rate</td>\n",
       "      <td>Tampa, Florida</td>\n",
       "      <td>Tampa, FL</td>\n",
       "      <td>place</td>\n",
       "      <td>507.0443517493828</td>\n",
       "      <td>rate</td>\n",
       "      <td>2016</td>\n",
       "    </tr>\n",
       "    <tr>\n",
       "      <th>12</th>\n",
       "      <td>277</td>\n",
       "      <td>Violent crime</td>\n",
       "      <td>1600000US1271000</td>\n",
       "      <td>1600000US1271000--2017--Violent crime--rate</td>\n",
       "      <td>Tampa, Florida</td>\n",
       "      <td>NaN</td>\n",
       "      <td>place</td>\n",
       "      <td>464.40836715579144</td>\n",
       "      <td>rate</td>\n",
       "      <td>2017</td>\n",
       "    </tr>\n",
       "  </tbody>\n",
       "</table>\n",
       "</div>"
      ],
      "text/plain": [
       "    index     crime_type                id  \\\n",
       "0     112  Violent crime  1600000US1271000   \n",
       "1       4  Violent crime  1600000US1271000   \n",
       "2     145  Violent crime  1600000US1271000   \n",
       "3     172  Violent crime  1600000US1271000   \n",
       "4       1  Violent crime  1600000US1271000   \n",
       "5     102  Violent crime  1600000US1271000   \n",
       "6      86  Violent crime  1600000US1271000   \n",
       "7      28  Violent crime  1600000US1271000   \n",
       "8     144  Violent crime  1600000US1271000   \n",
       "9     216  Violent crime  1600000US1271000   \n",
       "10    217  Violent crime  1600000US1271000   \n",
       "11    229  Violent crime  1600000US1271000   \n",
       "12    277  Violent crime  1600000US1271000   \n",
       "\n",
       "                                            key            name place_name  \\\n",
       "0   1600000US1271000--2006--Violent crime--rate  Tampa, Florida  Tampa, FL   \n",
       "1   1600000US1271000--2007--Violent crime--rate  Tampa, Florida  Tampa, FL   \n",
       "2   1600000US1271000--2008--Violent crime--rate  Tampa, Florida  Tampa, FL   \n",
       "3   1600000US1271000--2009--Violent crime--rate  Tampa, Florida  Tampa, FL   \n",
       "4   1600000US1271000--2010--Violent crime--rate  Tampa, Florida  Tampa, FL   \n",
       "5   1600000US1271000--2011--Violent crime--rate  Tampa, Florida  Tampa, FL   \n",
       "6   1600000US1271000--2012--Violent crime--rate  Tampa, Florida  Tampa, FL   \n",
       "7   1600000US1271000--2013--Violent crime--rate  Tampa, Florida  Tampa, FL   \n",
       "8   1600000US1271000--2014--Violent crime--rate  Tampa, Florida  Tampa, FL   \n",
       "9   1600000US1271000--2015--Violent crime--rate  Tampa, Florida  Tampa, FL   \n",
       "10  1600000US1271000--2015--Violent crime--rate  Tampa, Florida  Tampa, FL   \n",
       "11  1600000US1271000--2016--Violent crime--rate  Tampa, Florida  Tampa, FL   \n",
       "12  1600000US1271000--2017--Violent crime--rate  Tampa, Florida        NaN   \n",
       "\n",
       "     type               value variable  year  \n",
       "0   place  1158.1147978653764     rate  2006  \n",
       "1   place  1060.1387818041635     rate  2007  \n",
       "2   place   883.0225193003494     rate  2008  \n",
       "3   place   752.2455848658732     rate  2009  \n",
       "4   place   623.8679814852082     rate  2010  \n",
       "5   place   654.7472111530369     rate  2011  \n",
       "6   place   616.3793840767709     rate  2012  \n",
       "7   place    596.901916803771     rate  2013  \n",
       "8   place   582.4307523437238     rate  2014  \n",
       "9   place   630.6551074007294     rate  2015  \n",
       "10  place   630.6551074007294     rate  2015  \n",
       "11  place   507.0443517493828     rate  2016  \n",
       "12  place  464.40836715579144     rate  2017  "
      ]
     },
     "execution_count": 7,
     "metadata": {},
     "output_type": "execute_result"
    }
   ],
   "source": [
    "#Deleting repeat data (won't be the same for each city) and resetting the index  *********Important**********\n",
    "#violent_crime_df = violent_crime_df.drop(index=213)\n",
    "violent_crime_df = violent_crime_df.reset_index()\n",
    "violent_crime_df"
   ]
  },
  {
   "cell_type": "code",
   "execution_count": 8,
   "metadata": {},
   "outputs": [
    {
     "data": {
      "text/html": [
       "<div>\n",
       "<style scoped>\n",
       "    .dataframe tbody tr th:only-of-type {\n",
       "        vertical-align: middle;\n",
       "    }\n",
       "\n",
       "    .dataframe tbody tr th {\n",
       "        vertical-align: top;\n",
       "    }\n",
       "\n",
       "    .dataframe thead th {\n",
       "        text-align: right;\n",
       "    }\n",
       "</style>\n",
       "<table border=\"1\" class=\"dataframe\">\n",
       "  <thead>\n",
       "    <tr style=\"text-align: right;\">\n",
       "      <th></th>\n",
       "      <th>year</th>\n",
       "      <th>crime_type</th>\n",
       "      <th>value</th>\n",
       "      <th>variable</th>\n",
       "    </tr>\n",
       "  </thead>\n",
       "  <tbody>\n",
       "    <tr>\n",
       "      <th>0</th>\n",
       "      <td>2006</td>\n",
       "      <td>Violent crime</td>\n",
       "      <td>1158.1147978653764</td>\n",
       "      <td>rate</td>\n",
       "    </tr>\n",
       "    <tr>\n",
       "      <th>1</th>\n",
       "      <td>2007</td>\n",
       "      <td>Violent crime</td>\n",
       "      <td>1060.1387818041635</td>\n",
       "      <td>rate</td>\n",
       "    </tr>\n",
       "    <tr>\n",
       "      <th>2</th>\n",
       "      <td>2008</td>\n",
       "      <td>Violent crime</td>\n",
       "      <td>883.0225193003494</td>\n",
       "      <td>rate</td>\n",
       "    </tr>\n",
       "    <tr>\n",
       "      <th>3</th>\n",
       "      <td>2009</td>\n",
       "      <td>Violent crime</td>\n",
       "      <td>752.2455848658732</td>\n",
       "      <td>rate</td>\n",
       "    </tr>\n",
       "    <tr>\n",
       "      <th>4</th>\n",
       "      <td>2010</td>\n",
       "      <td>Violent crime</td>\n",
       "      <td>623.8679814852082</td>\n",
       "      <td>rate</td>\n",
       "    </tr>\n",
       "    <tr>\n",
       "      <th>5</th>\n",
       "      <td>2011</td>\n",
       "      <td>Violent crime</td>\n",
       "      <td>654.7472111530369</td>\n",
       "      <td>rate</td>\n",
       "    </tr>\n",
       "    <tr>\n",
       "      <th>6</th>\n",
       "      <td>2012</td>\n",
       "      <td>Violent crime</td>\n",
       "      <td>616.3793840767709</td>\n",
       "      <td>rate</td>\n",
       "    </tr>\n",
       "    <tr>\n",
       "      <th>7</th>\n",
       "      <td>2013</td>\n",
       "      <td>Violent crime</td>\n",
       "      <td>596.901916803771</td>\n",
       "      <td>rate</td>\n",
       "    </tr>\n",
       "    <tr>\n",
       "      <th>8</th>\n",
       "      <td>2014</td>\n",
       "      <td>Violent crime</td>\n",
       "      <td>582.4307523437238</td>\n",
       "      <td>rate</td>\n",
       "    </tr>\n",
       "    <tr>\n",
       "      <th>9</th>\n",
       "      <td>2015</td>\n",
       "      <td>Violent crime</td>\n",
       "      <td>630.6551074007294</td>\n",
       "      <td>rate</td>\n",
       "    </tr>\n",
       "    <tr>\n",
       "      <th>10</th>\n",
       "      <td>2015</td>\n",
       "      <td>Violent crime</td>\n",
       "      <td>630.6551074007294</td>\n",
       "      <td>rate</td>\n",
       "    </tr>\n",
       "    <tr>\n",
       "      <th>11</th>\n",
       "      <td>2016</td>\n",
       "      <td>Violent crime</td>\n",
       "      <td>507.0443517493828</td>\n",
       "      <td>rate</td>\n",
       "    </tr>\n",
       "    <tr>\n",
       "      <th>12</th>\n",
       "      <td>2017</td>\n",
       "      <td>Violent crime</td>\n",
       "      <td>464.40836715579144</td>\n",
       "      <td>rate</td>\n",
       "    </tr>\n",
       "  </tbody>\n",
       "</table>\n",
       "</div>"
      ],
      "text/plain": [
       "    year     crime_type               value variable\n",
       "0   2006  Violent crime  1158.1147978653764     rate\n",
       "1   2007  Violent crime  1060.1387818041635     rate\n",
       "2   2008  Violent crime   883.0225193003494     rate\n",
       "3   2009  Violent crime   752.2455848658732     rate\n",
       "4   2010  Violent crime   623.8679814852082     rate\n",
       "5   2011  Violent crime   654.7472111530369     rate\n",
       "6   2012  Violent crime   616.3793840767709     rate\n",
       "7   2013  Violent crime    596.901916803771     rate\n",
       "8   2014  Violent crime   582.4307523437238     rate\n",
       "9   2015  Violent crime   630.6551074007294     rate\n",
       "10  2015  Violent crime   630.6551074007294     rate\n",
       "11  2016  Violent crime   507.0443517493828     rate\n",
       "12  2017  Violent crime  464.40836715579144     rate"
      ]
     },
     "execution_count": 8,
     "metadata": {},
     "output_type": "execute_result"
    }
   ],
   "source": [
    "#Getting only the data we need\n",
    "violent_crime_df = violent_crime_df[['year','crime_type', 'value', 'variable']]\n",
    "violent_crime_df"
   ]
  },
  {
   "cell_type": "code",
   "execution_count": 9,
   "metadata": {},
   "outputs": [],
   "source": [
    "violent_crime_df = violent_crime_df.drop(index=10)\n",
    "violent_crime_df = violent_crime_df.reset_index()"
   ]
  },
  {
   "cell_type": "code",
   "execution_count": 10,
   "metadata": {},
   "outputs": [],
   "source": [
    "#Converting the correct columns to numbers, not objects\n",
    "\n",
    "violent_crime_df['year'] = pd.to_numeric(violent_crime_df['year'])\n",
    "violent_crime_df['value'] = pd.to_numeric(violent_crime_df['value'])\n",
    "violent_crime_df.to_csv(\"Tampa_violent_crime.csv\")"
   ]
  },
  {
   "cell_type": "code",
<<<<<<< HEAD
   "execution_count": 11,
=======
   "execution_count": 24,
>>>>>>> 5f072c74ecbdc3524e3530f20766a16ffd11b506
   "metadata": {},
   "outputs": [
    {
     "data": {
      "text/plain": [
       "Text(0, 0.5, 'Rate (Per 100,000 People)')"
      ]
     },
<<<<<<< HEAD
     "execution_count": 11,
=======
     "execution_count": 24,
>>>>>>> 5f072c74ecbdc3524e3530f20766a16ffd11b506
     "metadata": {},
     "output_type": "execute_result"
    },
    {
     "data": {
      "image/png": "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\n",
      "text/plain": [
       "<Figure size 1080x720 with 1 Axes>"
      ]
     },
     "metadata": {
      "needs_background": "light"
     },
     "output_type": "display_data"
    }
   ],
   "source": [
    "#Plot the graph\n",
    "violent_crime_df.plot(kind='line', x='year', y='value', figsize=(15,10), color='blue')\n",
    "plt.xlim(2006, 2017)\n",
    "plt.ylim(0, 1500)\n",
    "plt.title('Crime Rate per 100,000 people')\n",
    "plt.xlabel('Year')\n",
    "plt.ylabel('Rate (Per 100,000 People)')"
   ]
  },
  {
   "cell_type": "markdown",
   "metadata": {},
   "source": [
    "# Education Rates"
   ]
  },
  {
   "cell_type": "markdown",
   "metadata": {},
   "source": [
    "Getting the graduation rates from the same site, but creating my own CSV file manually in Excel"
   ]
  },
  {
   "cell_type": "code",
   "execution_count": 12,
   "metadata": {},
   "outputs": [],
   "source": [
    "#Import and Read the CSV File\n",
    "csv_file = 'Tampa_education.csv'\n",
    "\n",
    "edu_data = pd.read_csv(csv_file)\n",
    "\n",
    "#Turn it into a DataFrame\n",
    "edu_df = pd.DataFrame(edu_data)\n",
    "edu_df.to_csv(\"Tampa_education.csv\")\n",
    "#edu_df"
   ]
  },
  {
   "cell_type": "code",
   "execution_count": 13,
   "metadata": {},
   "outputs": [
    {
     "data": {
      "text/plain": [
       "Text(0, 0.5, 'Graduation Rate')"
      ]
     },
     "execution_count": 13,
     "metadata": {},
     "output_type": "execute_result"
    },
    {
     "data": {
      "image/png": "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\n",
      "text/plain": [
       "<Figure size 1080x720 with 1 Axes>"
      ]
     },
     "metadata": {
      "needs_background": "light"
     },
     "output_type": "display_data"
    }
   ],
   "source": [
    "#Plot the graph\n",
    "edu_df.plot(kind='line', x='Year', y='Graduation Rate', figsize=(15,10), color='maroon')\n",
    "plt.title('High School Graduation Rates')\n",
    "plt.xlabel('Year')\n",
    "plt.ylabel('Graduation Rate')"
   ]
  },
  {
   "cell_type": "markdown",
   "metadata": {},
   "source": [
    "# Income"
   ]
  },
  {
   "cell_type": "markdown",
   "metadata": {},
   "source": [
    "Same process as the education rates.  Create your own CSV based on the website"
   ]
  },
  {
   "cell_type": "code",
   "execution_count": 14,
   "metadata": {},
   "outputs": [],
   "source": [
    "#Import and Read the CSV File\n",
    "csv_file = 'Tampa_income.csv'\n",
    "\n",
    "income_data = pd.read_csv(csv_file)\n",
    "\n",
    "#Turn it into a DataFrame\n",
    "income_df = pd.DataFrame(income_data)\n",
    "\n",
    "#income_df"
   ]
  },
  {
   "cell_type": "code",
   "execution_count": 15,
   "metadata": {},
   "outputs": [],
   "source": [
    "#Sum the percentages together to get amount making below $25,000 (poverty)\n",
    "\n",
    "income_df['% <25000'] = income_df['% 15000-24999'] + income_df['% 10000-14999'] + income_df['% <10000']\n",
    "income_df\n",
    "income_df.to_csv(\"Tampa_income.csv\")"
   ]
  },
  {
   "cell_type": "code",
   "execution_count": 16,
   "metadata": {},
   "outputs": [],
   "source": [
    "#Get just the columns we need\n",
    "\n",
    "poverty_df = income_df[['Year', '% <25000']]\n",
    "poverty_df\n",
    "poverty_df.to_csv(\"Tampa_poverty.csv\")"
   ]
  },
  {
   "cell_type": "code",
   "execution_count": 17,
   "metadata": {},
   "outputs": [
    {
     "data": {
      "text/plain": [
       "Text(0, 0.5, 'Percentage of Population')"
      ]
     },
     "execution_count": 17,
     "metadata": {},
     "output_type": "execute_result"
    },
    {
     "data": {
      "image/png": "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\n",
      "text/plain": [
       "<Figure size 1080x720 with 1 Axes>"
      ]
     },
     "metadata": {
      "needs_background": "light"
     },
     "output_type": "display_data"
    }
   ],
   "source": [
    "#Plot the Poverty Graph\n",
    "poverty_df.plot(kind='line', x='Year', y='% <25000', figsize=(15,10), color='purple')\n",
    "plt.title('Percentage of Population Below Poverty Threshold')\n",
    "plt.xlabel('Year')\n",
    "plt.ylabel('Percentage of Population')"
   ]
  },
  {
   "cell_type": "code",
   "execution_count": 18,
   "metadata": {},
   "outputs": [
    {
     "data": {
      "text/plain": [
       "Text(0, 0.5, '$ Amount per Year')"
      ]
     },
     "execution_count": 18,
     "metadata": {},
     "output_type": "execute_result"
    },
    {
     "data": {
      "image/png": "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\n",
      "text/plain": [
       "<Figure size 1080x720 with 1 Axes>"
      ]
     },
     "metadata": {
      "needs_background": "light"
     },
     "output_type": "display_data"
    }
   ],
   "source": [
    "#Get the columns we need\n",
    "\n",
    "median_income_df = income_df[['Year', 'Median Income']]\n",
    "\n",
    "#Plot the Median Income Graph\n",
    "median_income_df.plot(kind='line', x='Year', y='Median Income', figsize=(15,10), color='green')\n",
    "plt.title('Median Income')\n",
    "plt.xlabel('Year')\n",
    "plt.ylabel('$ Amount per Year')"
   ]
  },
  {
   "cell_type": "code",
   "execution_count": null,
   "metadata": {},
   "outputs": [],
   "source": []
  },
  {
   "cell_type": "code",
   "execution_count": null,
   "metadata": {},
   "outputs": [],
   "source": []
  },
  {
   "cell_type": "code",
   "execution_count": null,
   "metadata": {},
   "outputs": [],
   "source": []
  },
  {
   "cell_type": "code",
   "execution_count": null,
   "metadata": {},
   "outputs": [],
   "source": []
  },
  {
   "cell_type": "code",
   "execution_count": null,
   "metadata": {},
   "outputs": [],
   "source": []
  }
 ],
 "metadata": {
  "kernelspec": {
   "display_name": "Python 3",
   "language": "python",
   "name": "python3"
  },
  "language_info": {
   "codemirror_mode": {
    "name": "ipython",
    "version": 3
   },
   "file_extension": ".py",
   "mimetype": "text/x-python",
   "name": "python",
   "nbconvert_exporter": "python",
   "pygments_lexer": "ipython3",
   "version": "3.7.3"
  }
 },
 "nbformat": 4,
 "nbformat_minor": 2
}
